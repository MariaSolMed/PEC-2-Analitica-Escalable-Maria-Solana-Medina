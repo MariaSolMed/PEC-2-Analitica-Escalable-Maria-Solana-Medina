{
 "cells": [
  {
   "cell_type": "code",
   "execution_count": 1,
   "id": "23309148",
   "metadata": {},
   "outputs": [
    {
     "name": "stdout",
     "output_type": "stream",
     "text": [
      "Requirement already satisfied: feature-engine in c:\\users\\masol\\anaconda3\\lib\\site-packages (1.5.1)\n",
      "Requirement already satisfied: scikit-learn>=1.0.0 in c:\\users\\masol\\anaconda3\\lib\\site-packages (from feature-engine) (1.1.3)\n",
      "Requirement already satisfied: scipy>=1.4.1 in c:\\users\\masol\\anaconda3\\lib\\site-packages (from feature-engine) (1.6.2)\n",
      "Requirement already satisfied: statsmodels>=0.11.1 in c:\\users\\masol\\anaconda3\\lib\\site-packages (from feature-engine) (0.12.2)\n",
      "Requirement already satisfied: pandas>=1.0.3 in c:\\users\\masol\\anaconda3\\lib\\site-packages (from feature-engine) (1.2.4)\n",
      "Requirement already satisfied: numpy>=1.18.2 in c:\\users\\masol\\anaconda3\\lib\\site-packages (from feature-engine) (1.20.1)\n",
      "Requirement already satisfied: pytz>=2017.3 in c:\\users\\masol\\anaconda3\\lib\\site-packages (from pandas>=1.0.3->feature-engine) (2021.1)\n",
      "Requirement already satisfied: python-dateutil>=2.7.3 in c:\\users\\masol\\anaconda3\\lib\\site-packages (from pandas>=1.0.3->feature-engine) (2.8.1)\n",
      "Requirement already satisfied: six>=1.5 in c:\\users\\masol\\anaconda3\\lib\\site-packages (from python-dateutil>=2.7.3->pandas>=1.0.3->feature-engine) (1.15.0)\n",
      "Requirement already satisfied: joblib>=1.0.0 in c:\\users\\masol\\anaconda3\\lib\\site-packages (from scikit-learn>=1.0.0->feature-engine) (1.0.1)\n",
      "Requirement already satisfied: threadpoolctl>=2.0.0 in c:\\users\\masol\\anaconda3\\lib\\site-packages (from scikit-learn>=1.0.0->feature-engine) (2.1.0)\n",
      "Requirement already satisfied: patsy>=0.5 in c:\\users\\masol\\anaconda3\\lib\\site-packages (from statsmodels>=0.11.1->feature-engine) (0.5.1)\n"
     ]
    }
   ],
   "source": [
    "! pip install -U feature-engine"
   ]
  },
  {
   "cell_type": "code",
   "execution_count": 2,
   "id": "c80ab492",
   "metadata": {},
   "outputs": [],
   "source": [
    "#TODOS LOS IMPORTS\n",
    "# data manipulation and plotting\n",
    "\n",
    "import pandas as pd\n",
    "import numpy as np\n",
    "\n",
    "#for saving the pipeline\n",
    "import joblib\n",
    "\n",
    "#from Scikit-learn\n",
    "from sklearn.pipeline import Pipeline\n",
    "\n",
    "#from feature-engine\n",
    "from feature_engine.imputation import (\n",
    "    MeanMedianImputer,\n",
    "    AddMissingIndicator\n",
    ")\n",
    "\n",
    "from feature_engine.selection import DropFeatures\n",
    "\n",
    "#to separate training and test\n",
    "from sklearn.model_selection import train_test_split\n",
    "\n",
    "#the model\n",
    "from sklearn.linear_model import LogisticRegression"
   ]
  },
  {
   "cell_type": "code",
   "execution_count": 3,
   "id": "21c3c634",
   "metadata": {},
   "outputs": [
    {
     "data": {
      "text/html": [
       "<div>\n",
       "<style scoped>\n",
       "    .dataframe tbody tr th:only-of-type {\n",
       "        vertical-align: middle;\n",
       "    }\n",
       "\n",
       "    .dataframe tbody tr th {\n",
       "        vertical-align: top;\n",
       "    }\n",
       "\n",
       "    .dataframe thead th {\n",
       "        text-align: right;\n",
       "    }\n",
       "</style>\n",
       "<table border=\"1\" class=\"dataframe\">\n",
       "  <thead>\n",
       "    <tr style=\"text-align: right;\">\n",
       "      <th></th>\n",
       "      <th>pclass</th>\n",
       "      <th>name</th>\n",
       "      <th>sex</th>\n",
       "      <th>age</th>\n",
       "      <th>sibsp</th>\n",
       "      <th>parch</th>\n",
       "      <th>ticket</th>\n",
       "      <th>fare</th>\n",
       "      <th>cabin</th>\n",
       "      <th>embarked</th>\n",
       "      <th>survived</th>\n",
       "    </tr>\n",
       "  </thead>\n",
       "  <tbody>\n",
       "    <tr>\n",
       "      <th>0</th>\n",
       "      <td>1</td>\n",
       "      <td>Allen, Miss. Elisabeth Walton</td>\n",
       "      <td>female</td>\n",
       "      <td>29.0000</td>\n",
       "      <td>0</td>\n",
       "      <td>0</td>\n",
       "      <td>24160</td>\n",
       "      <td>2113375.00</td>\n",
       "      <td>B5</td>\n",
       "      <td>S</td>\n",
       "      <td>1</td>\n",
       "    </tr>\n",
       "    <tr>\n",
       "      <th>1</th>\n",
       "      <td>1</td>\n",
       "      <td>Allison, Master. Hudson Trevor</td>\n",
       "      <td>male</td>\n",
       "      <td>0.9167</td>\n",
       "      <td>1</td>\n",
       "      <td>2</td>\n",
       "      <td>113781</td>\n",
       "      <td>151.55</td>\n",
       "      <td>C22 C26</td>\n",
       "      <td>S</td>\n",
       "      <td>1</td>\n",
       "    </tr>\n",
       "    <tr>\n",
       "      <th>2</th>\n",
       "      <td>1</td>\n",
       "      <td>Allison, Miss. Helen Loraine</td>\n",
       "      <td>female</td>\n",
       "      <td>2.0000</td>\n",
       "      <td>1</td>\n",
       "      <td>2</td>\n",
       "      <td>113781</td>\n",
       "      <td>151.55</td>\n",
       "      <td>C22 C26</td>\n",
       "      <td>S</td>\n",
       "      <td>0</td>\n",
       "    </tr>\n",
       "    <tr>\n",
       "      <th>3</th>\n",
       "      <td>1</td>\n",
       "      <td>Allison, Mr. Hudson Joshua Creighton</td>\n",
       "      <td>male</td>\n",
       "      <td>30.0000</td>\n",
       "      <td>1</td>\n",
       "      <td>2</td>\n",
       "      <td>113781</td>\n",
       "      <td>151.55</td>\n",
       "      <td>C22 C26</td>\n",
       "      <td>S</td>\n",
       "      <td>0</td>\n",
       "    </tr>\n",
       "    <tr>\n",
       "      <th>4</th>\n",
       "      <td>1</td>\n",
       "      <td>Allison, Mrs. Hudson J C (Bessie Waldo Daniels)</td>\n",
       "      <td>female</td>\n",
       "      <td>25.0000</td>\n",
       "      <td>1</td>\n",
       "      <td>2</td>\n",
       "      <td>113781</td>\n",
       "      <td>151.55</td>\n",
       "      <td>C22 C26</td>\n",
       "      <td>S</td>\n",
       "      <td>0</td>\n",
       "    </tr>\n",
       "  </tbody>\n",
       "</table>\n",
       "</div>"
      ],
      "text/plain": [
       "   pclass                                             name     sex      age  \\\n",
       "0       1                    Allen, Miss. Elisabeth Walton  female  29.0000   \n",
       "1       1                   Allison, Master. Hudson Trevor    male   0.9167   \n",
       "2       1                     Allison, Miss. Helen Loraine  female   2.0000   \n",
       "3       1             Allison, Mr. Hudson Joshua Creighton    male  30.0000   \n",
       "4       1  Allison, Mrs. Hudson J C (Bessie Waldo Daniels)  female  25.0000   \n",
       "\n",
       "   sibsp  parch  ticket        fare    cabin embarked  survived  \n",
       "0      0      0   24160  2113375.00       B5        S         1  \n",
       "1      1      2  113781      151.55  C22 C26        S         1  \n",
       "2      1      2  113781      151.55  C22 C26        S         0  \n",
       "3      1      2  113781      151.55  C22 C26        S         0  \n",
       "4      1      2  113781      151.55  C22 C26        S         0  "
      ]
     },
     "execution_count": 3,
     "metadata": {},
     "output_type": "execute_result"
    }
   ],
   "source": [
    "# CARGAR DATA\n",
    "\n",
    "file_name = \"titanic.csv\"\n",
    "df = pd.read_csv(file_name, sep=';')\n",
    "df.head()"
   ]
  },
  {
   "cell_type": "code",
   "execution_count": 4,
   "id": "adafc68d",
   "metadata": {},
   "outputs": [],
   "source": [
    "X = df[[\"pclass\", \"name\", \"sex\", \"age\", \"sibsp\", \"parch\", \"ticket\", \"fare\", \"cabin\", \"embarked\"]]\n",
    "Y = df[\"survived\"]"
   ]
  },
  {
   "cell_type": "code",
   "execution_count": 5,
   "id": "6bad8137",
   "metadata": {},
   "outputs": [],
   "source": [
    "# Let's separate into train and test set\n",
    "X_train, X_test, Y_train, Y_test = train_test_split(\n",
    "    X, #features\n",
    "    Y, #labels\n",
    "    test_size=0.3, #portion to test\n",
    "    random_state=0 #seed definition\n",
    ")\n",
    "\n",
    "X_train = pd.DataFrame(X_train, columns=[\"pclass\",\"name\", \"sex\", \"age\", \"sibsp\", \"parch\", \"ticket\", \"fare\", \"cabin\", \"embarked\"])\n",
    "X_test = pd.DataFrame(X_test, columns=[\"pclass\", \"name\", \"sex\", \"age\", \"sibsp\", \"parch\", \"ticket\", \"fare\", \"cabin\", \"embarked\"])\n",
    "Y_train = pd.DataFrame(Y_train, columns=['survived'])\n",
    "Y_test = pd.DataFrame(Y_test, columns=['survived'])"
   ]
  },
  {
   "cell_type": "code",
   "execution_count": 6,
   "id": "d1585a72",
   "metadata": {},
   "outputs": [],
   "source": [
    "# CONFIGURATION\n",
    "\n",
    "#numerical variables with NA in train set\n",
    "NUMERICAL_VARS_WITH_NA = ['age']\n",
    "\n",
    "# Drop features:\n",
    "DROP_FEATURES = [\"name\", \"sex\", \"sibsp\", \"parch\", \"ticket\", \"fare\", \"cabin\", \"embarked\"]\n",
    "\n",
    "# the selected variables:\n",
    "FEATURES = ['pclass',\n",
    "        'age'\n",
    "]"
   ]
  },
  {
   "cell_type": "code",
   "execution_count": 7,
   "id": "ebca79a0",
   "metadata": {},
   "outputs": [],
   "source": [
    "# set up the pipeline\n",
    "genero_pipe = Pipeline([\n",
    "    \n",
    "    #====IMPUTATION ====\n",
    "    ('drop_features', DropFeatures(features_to_drop = DROP_FEATURES)),\n",
    "    # add missing indicator\n",
    "    ('missing_indicator', AddMissingIndicator(variables=NUMERICAL_VARS_WITH_NA)),\n",
    "    \n",
    "    #impute numerical variables with the mean\n",
    "    ('mean_imputation', MeanMedianImputer(\n",
    "        imputation_method='mean', variables=NUMERICAL_VARS_WITH_NA\n",
    "    )),\n",
    "    ('LogisticRegression', LogisticRegression())\n",
    "])"
   ]
  },
  {
   "cell_type": "code",
   "execution_count": 8,
   "id": "c2b5e507",
   "metadata": {},
   "outputs": [
    {
     "data": {
      "text/html": [
       "<style>#sk-container-id-1 {color: black;background-color: white;}#sk-container-id-1 pre{padding: 0;}#sk-container-id-1 div.sk-toggleable {background-color: white;}#sk-container-id-1 label.sk-toggleable__label {cursor: pointer;display: block;width: 100%;margin-bottom: 0;padding: 0.3em;box-sizing: border-box;text-align: center;}#sk-container-id-1 label.sk-toggleable__label-arrow:before {content: \"▸\";float: left;margin-right: 0.25em;color: #696969;}#sk-container-id-1 label.sk-toggleable__label-arrow:hover:before {color: black;}#sk-container-id-1 div.sk-estimator:hover label.sk-toggleable__label-arrow:before {color: black;}#sk-container-id-1 div.sk-toggleable__content {max-height: 0;max-width: 0;overflow: hidden;text-align: left;background-color: #f0f8ff;}#sk-container-id-1 div.sk-toggleable__content pre {margin: 0.2em;color: black;border-radius: 0.25em;background-color: #f0f8ff;}#sk-container-id-1 input.sk-toggleable__control:checked~div.sk-toggleable__content {max-height: 200px;max-width: 100%;overflow: auto;}#sk-container-id-1 input.sk-toggleable__control:checked~label.sk-toggleable__label-arrow:before {content: \"▾\";}#sk-container-id-1 div.sk-estimator input.sk-toggleable__control:checked~label.sk-toggleable__label {background-color: #d4ebff;}#sk-container-id-1 div.sk-label input.sk-toggleable__control:checked~label.sk-toggleable__label {background-color: #d4ebff;}#sk-container-id-1 input.sk-hidden--visually {border: 0;clip: rect(1px 1px 1px 1px);clip: rect(1px, 1px, 1px, 1px);height: 1px;margin: -1px;overflow: hidden;padding: 0;position: absolute;width: 1px;}#sk-container-id-1 div.sk-estimator {font-family: monospace;background-color: #f0f8ff;border: 1px dotted black;border-radius: 0.25em;box-sizing: border-box;margin-bottom: 0.5em;}#sk-container-id-1 div.sk-estimator:hover {background-color: #d4ebff;}#sk-container-id-1 div.sk-parallel-item::after {content: \"\";width: 100%;border-bottom: 1px solid gray;flex-grow: 1;}#sk-container-id-1 div.sk-label:hover label.sk-toggleable__label {background-color: #d4ebff;}#sk-container-id-1 div.sk-serial::before {content: \"\";position: absolute;border-left: 1px solid gray;box-sizing: border-box;top: 0;bottom: 0;left: 50%;z-index: 0;}#sk-container-id-1 div.sk-serial {display: flex;flex-direction: column;align-items: center;background-color: white;padding-right: 0.2em;padding-left: 0.2em;position: relative;}#sk-container-id-1 div.sk-item {position: relative;z-index: 1;}#sk-container-id-1 div.sk-parallel {display: flex;align-items: stretch;justify-content: center;background-color: white;position: relative;}#sk-container-id-1 div.sk-item::before, #sk-container-id-1 div.sk-parallel-item::before {content: \"\";position: absolute;border-left: 1px solid gray;box-sizing: border-box;top: 0;bottom: 0;left: 50%;z-index: -1;}#sk-container-id-1 div.sk-parallel-item {display: flex;flex-direction: column;z-index: 1;position: relative;background-color: white;}#sk-container-id-1 div.sk-parallel-item:first-child::after {align-self: flex-end;width: 50%;}#sk-container-id-1 div.sk-parallel-item:last-child::after {align-self: flex-start;width: 50%;}#sk-container-id-1 div.sk-parallel-item:only-child::after {width: 0;}#sk-container-id-1 div.sk-dashed-wrapped {border: 1px dashed gray;margin: 0 0.4em 0.5em 0.4em;box-sizing: border-box;padding-bottom: 0.4em;background-color: white;}#sk-container-id-1 div.sk-label label {font-family: monospace;font-weight: bold;display: inline-block;line-height: 1.2em;}#sk-container-id-1 div.sk-label-container {text-align: center;}#sk-container-id-1 div.sk-container {/* jupyter's `normalize.less` sets `[hidden] { display: none; }` but bootstrap.min.css set `[hidden] { display: none !important; }` so we also need the `!important` here to be able to override the default hidden behavior on the sphinx rendered scikit-learn.org. See: https://github.com/scikit-learn/scikit-learn/issues/21755 */display: inline-block !important;position: relative;}#sk-container-id-1 div.sk-text-repr-fallback {display: none;}</style><div id=\"sk-container-id-1\" class=\"sk-top-container\"><div class=\"sk-text-repr-fallback\"><pre>Pipeline(steps=[(&#x27;drop_features&#x27;,\n",
       "                 DropFeatures(features_to_drop=[&#x27;name&#x27;, &#x27;sex&#x27;, &#x27;sibsp&#x27;, &#x27;parch&#x27;,\n",
       "                                                &#x27;ticket&#x27;, &#x27;fare&#x27;, &#x27;cabin&#x27;,\n",
       "                                                &#x27;embarked&#x27;])),\n",
       "                (&#x27;missing_indicator&#x27;, AddMissingIndicator(variables=[&#x27;age&#x27;])),\n",
       "                (&#x27;mean_imputation&#x27;,\n",
       "                 MeanMedianImputer(imputation_method=&#x27;mean&#x27;,\n",
       "                                   variables=[&#x27;age&#x27;])),\n",
       "                (&#x27;LogisticRegression&#x27;, LogisticRegression())])</pre><b>In a Jupyter environment, please rerun this cell to show the HTML representation or trust the notebook. <br />On GitHub, the HTML representation is unable to render, please try loading this page with nbviewer.org.</b></div><div class=\"sk-container\" hidden><div class=\"sk-item sk-dashed-wrapped\"><div class=\"sk-label-container\"><div class=\"sk-label sk-toggleable\"><input class=\"sk-toggleable__control sk-hidden--visually\" id=\"sk-estimator-id-1\" type=\"checkbox\" ><label for=\"sk-estimator-id-1\" class=\"sk-toggleable__label sk-toggleable__label-arrow\">Pipeline</label><div class=\"sk-toggleable__content\"><pre>Pipeline(steps=[(&#x27;drop_features&#x27;,\n",
       "                 DropFeatures(features_to_drop=[&#x27;name&#x27;, &#x27;sex&#x27;, &#x27;sibsp&#x27;, &#x27;parch&#x27;,\n",
       "                                                &#x27;ticket&#x27;, &#x27;fare&#x27;, &#x27;cabin&#x27;,\n",
       "                                                &#x27;embarked&#x27;])),\n",
       "                (&#x27;missing_indicator&#x27;, AddMissingIndicator(variables=[&#x27;age&#x27;])),\n",
       "                (&#x27;mean_imputation&#x27;,\n",
       "                 MeanMedianImputer(imputation_method=&#x27;mean&#x27;,\n",
       "                                   variables=[&#x27;age&#x27;])),\n",
       "                (&#x27;LogisticRegression&#x27;, LogisticRegression())])</pre></div></div></div><div class=\"sk-serial\"><div class=\"sk-item\"><div class=\"sk-estimator sk-toggleable\"><input class=\"sk-toggleable__control sk-hidden--visually\" id=\"sk-estimator-id-2\" type=\"checkbox\" ><label for=\"sk-estimator-id-2\" class=\"sk-toggleable__label sk-toggleable__label-arrow\">DropFeatures</label><div class=\"sk-toggleable__content\"><pre>DropFeatures(features_to_drop=[&#x27;name&#x27;, &#x27;sex&#x27;, &#x27;sibsp&#x27;, &#x27;parch&#x27;, &#x27;ticket&#x27;,\n",
       "                               &#x27;fare&#x27;, &#x27;cabin&#x27;, &#x27;embarked&#x27;])</pre></div></div></div><div class=\"sk-item\"><div class=\"sk-estimator sk-toggleable\"><input class=\"sk-toggleable__control sk-hidden--visually\" id=\"sk-estimator-id-3\" type=\"checkbox\" ><label for=\"sk-estimator-id-3\" class=\"sk-toggleable__label sk-toggleable__label-arrow\">AddMissingIndicator</label><div class=\"sk-toggleable__content\"><pre>AddMissingIndicator(variables=[&#x27;age&#x27;])</pre></div></div></div><div class=\"sk-item\"><div class=\"sk-estimator sk-toggleable\"><input class=\"sk-toggleable__control sk-hidden--visually\" id=\"sk-estimator-id-4\" type=\"checkbox\" ><label for=\"sk-estimator-id-4\" class=\"sk-toggleable__label sk-toggleable__label-arrow\">MeanMedianImputer</label><div class=\"sk-toggleable__content\"><pre>MeanMedianImputer(imputation_method=&#x27;mean&#x27;, variables=[&#x27;age&#x27;])</pre></div></div></div><div class=\"sk-item\"><div class=\"sk-estimator sk-toggleable\"><input class=\"sk-toggleable__control sk-hidden--visually\" id=\"sk-estimator-id-5\" type=\"checkbox\" ><label for=\"sk-estimator-id-5\" class=\"sk-toggleable__label sk-toggleable__label-arrow\">LogisticRegression</label><div class=\"sk-toggleable__content\"><pre>LogisticRegression()</pre></div></div></div></div></div></div></div>"
      ],
      "text/plain": [
       "Pipeline(steps=[('drop_features',\n",
       "                 DropFeatures(features_to_drop=['name', 'sex', 'sibsp', 'parch',\n",
       "                                                'ticket', 'fare', 'cabin',\n",
       "                                                'embarked'])),\n",
       "                ('missing_indicator', AddMissingIndicator(variables=['age'])),\n",
       "                ('mean_imputation',\n",
       "                 MeanMedianImputer(imputation_method='mean',\n",
       "                                   variables=['age'])),\n",
       "                ('LogisticRegression', LogisticRegression())])"
      ]
     },
     "execution_count": 8,
     "metadata": {},
     "output_type": "execute_result"
    }
   ],
   "source": [
    "# train the pipeline\n",
    "genero_pipe.fit(X_train, Y_train.values.ravel())"
   ]
  },
  {
   "cell_type": "code",
   "execution_count": 9,
   "id": "b3c6a27f",
   "metadata": {},
   "outputs": [
    {
     "name": "stdout",
     "output_type": "stream",
     "text": [
      "1\n"
     ]
    }
   ],
   "source": [
    "ejemplo = pd.DataFrame([[1, \"Maria Solana\", \"female\", 36.0000, 2, 0, 24165, 70.00, \"MS35 DD38\", \"S\"]], columns = [\"pclass\", \"name\", \"sex\", \"age\", \"sibsp\", \"parch\", \"ticket\", \"fare\", \"cabin\", \"embarked\"])\n",
    "pred = genero_pipe.predict(ejemplo)\n",
    "print(pred[0])"
   ]
  },
  {
   "cell_type": "code",
   "execution_count": 10,
   "id": "25fc0797",
   "metadata": {},
   "outputs": [],
   "source": [
    "joblib.dump(genero_pipe, open('cfk.pkl', 'wb'))"
   ]
  },
  {
   "cell_type": "code",
   "execution_count": 11,
   "id": "a3ad4dba",
   "metadata": {},
   "outputs": [],
   "source": [
    "X_train.to_csv('train.csv',sep=';')\n",
    "X_test.to_csv('test.csv',sep=';')"
   ]
  }
 ],
 "metadata": {
  "kernelspec": {
   "display_name": "Python 3",
   "language": "python",
   "name": "python3"
  },
  "language_info": {
   "codemirror_mode": {
    "name": "ipython",
    "version": 3
   },
   "file_extension": ".py",
   "mimetype": "text/x-python",
   "name": "python",
   "nbconvert_exporter": "python",
   "pygments_lexer": "ipython3",
   "version": "3.8.8"
  }
 },
 "nbformat": 4,
 "nbformat_minor": 5
}
